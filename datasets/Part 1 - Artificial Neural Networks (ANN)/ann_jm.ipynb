{
 "cells": [
  {
   "cell_type": "markdown",
   "metadata": {
    "id": "3yFpBwmNz70v"
   },
   "source": [
    "# Redes Neuronales Artificales"
   ]
  },
  {
   "cell_type": "markdown",
   "metadata": {
    "id": "v8OxSXXSz-OP"
   },
   "source": [
    "# Importación de librerías"
   ]
  },
  {
   "cell_type": "code",
   "execution_count": 1,
   "metadata": {
    "executionInfo": {
     "elapsed": 69215,
     "status": "ok",
     "timestamp": 1614450022499,
     "user": {
      "displayName": "Jorge Marcos Puñal",
      "photoUrl": "https://lh3.googleusercontent.com/a-/AOh14GjYxeHXnOttQuOkens1SXqkfSRlFY7QYHw0SsltDA=s64",
      "userId": "07829715285529688914"
     },
     "user_tz": -60
    },
    "id": "edZX51YLzs59"
   },
   "outputs": [],
   "source": [
    "import numpy as np\n",
    "import matplotlib.pyplot as plt\n",
    "import pandas as pd"
   ]
  },
  {
   "cell_type": "markdown",
   "metadata": {
    "id": "8XfXlqtF0B58"
   },
   "source": [
    "# Importar el data set"
   ]
  },
  {
   "cell_type": "code",
   "execution_count": 2,
   "metadata": {
    "executionInfo": {
     "elapsed": 69212,
     "status": "ok",
     "timestamp": 1614450022501,
     "user": {
      "displayName": "Jorge Marcos Puñal",
      "photoUrl": "https://lh3.googleusercontent.com/a-/AOh14GjYxeHXnOttQuOkens1SXqkfSRlFY7QYHw0SsltDA=s64",
      "userId": "07829715285529688914"
     },
     "user_tz": -60
    },
    "id": "-nnozsHsz_-N"
   },
   "outputs": [],
   "source": [
    "dataset = pd.read_csv('Churn_Modelling.csv')\n",
    "X = dataset.iloc[:, 3:13].values\n",
    "y = dataset.iloc[:, 13].values"
   ]
  },
  {
   "cell_type": "code",
   "execution_count": 3,
   "metadata": {},
   "outputs": [
    {
     "data": {
      "text/plain": [
       "array([[619, 'France', 'Female', ..., 1, 1, 101348.88],\n",
       "       [608, 'Spain', 'Female', ..., 0, 1, 112542.58],\n",
       "       [502, 'France', 'Female', ..., 1, 0, 113931.57],\n",
       "       ...,\n",
       "       [709, 'France', 'Female', ..., 0, 1, 42085.58],\n",
       "       [772, 'Germany', 'Male', ..., 1, 0, 92888.52],\n",
       "       [792, 'France', 'Female', ..., 1, 0, 38190.78]], dtype=object)"
      ]
     },
     "execution_count": 3,
     "metadata": {},
     "output_type": "execute_result"
    }
   ],
   "source": [
    "X"
   ]
  },
  {
   "cell_type": "code",
   "execution_count": 4,
   "metadata": {},
   "outputs": [
    {
     "data": {
      "text/plain": [
       "array([1, 0, 1, ..., 1, 1, 0])"
      ]
     },
     "execution_count": 4,
     "metadata": {},
     "output_type": "execute_result"
    }
   ],
   "source": [
    "y"
   ]
  },
  {
   "cell_type": "markdown",
   "metadata": {
    "id": "xtzD5VD4bOEn"
   },
   "source": [
    "# Parte 1 - Pre procesado de datos"
   ]
  },
  {
   "cell_type": "markdown",
   "metadata": {
    "id": "SsVEdPzf4XmV"
   },
   "source": [
    "# Codificar datos categóricos"
   ]
  },
  {
   "cell_type": "code",
   "execution_count": 5,
   "metadata": {
    "executionInfo": {
     "elapsed": 69902,
     "status": "ok",
     "timestamp": 1614450023200,
     "user": {
      "displayName": "Jorge Marcos Puñal",
      "photoUrl": "https://lh3.googleusercontent.com/a-/AOh14GjYxeHXnOttQuOkens1SXqkfSRlFY7QYHw0SsltDA=s64",
      "userId": "07829715285529688914"
     },
     "user_tz": -60
    },
    "id": "v9CtwK834bjy"
   },
   "outputs": [],
   "source": [
    "from sklearn.preprocessing import LabelEncoder\n",
    "\n",
    "labelencoder_X_1 = LabelEncoder()\n",
    "X[:, 1] = labelencoder_X_1.fit_transform(X[:, 1])\n",
    "labelencoder_X_2 = LabelEncoder()\n",
    "X[:, 2] = labelencoder_X_2.fit_transform(X[:, 2])"
   ]
  },
  {
   "cell_type": "code",
   "execution_count": 6,
   "metadata": {},
   "outputs": [
    {
     "data": {
      "text/plain": [
       "array([[0.0, 0.0, 619, ..., 1, 1, 101348.88],\n",
       "       [0.0, 1.0, 608, ..., 0, 1, 112542.58],\n",
       "       [0.0, 0.0, 502, ..., 1, 0, 113931.57],\n",
       "       ...,\n",
       "       [0.0, 0.0, 709, ..., 0, 1, 42085.58],\n",
       "       [1.0, 0.0, 772, ..., 1, 0, 92888.52],\n",
       "       [0.0, 0.0, 792, ..., 1, 0, 38190.78]], dtype=object)"
      ]
     },
     "execution_count": 6,
     "metadata": {},
     "output_type": "execute_result"
    }
   ],
   "source": [
    "from sklearn.preprocessing import OneHotEncoder\n",
    "from sklearn.compose import ColumnTransformer\n",
    "\n",
    "transformer = ColumnTransformer(\n",
    "    transformers = [\n",
    "        ('Churn_Modelling', # Un nombre de la transformación\n",
    "        OneHotEncoder(categories='auto'), # La clase a la que transformar\n",
    "        [1] # Las columnas a transformar\n",
    "        )\n",
    "    ], remainder='passthrough'                        \n",
    ")\n",
    "\n",
    "X = transformer.fit_transform(X)\n",
    "X = X[:, 1:]\n",
    "X"
   ]
  },
  {
   "cell_type": "markdown",
   "metadata": {
    "id": "5AH_uCEz68rb"
   },
   "source": [
    "# Dividir el data set en conjunto de entrenamiento y conjunto de testing"
   ]
  },
  {
   "cell_type": "code",
   "execution_count": 7,
   "metadata": {
    "executionInfo": {
     "elapsed": 69901,
     "status": "ok",
     "timestamp": 1614450023203,
     "user": {
      "displayName": "Jorge Marcos Puñal",
      "photoUrl": "https://lh3.googleusercontent.com/a-/AOh14GjYxeHXnOttQuOkens1SXqkfSRlFY7QYHw0SsltDA=s64",
      "userId": "07829715285529688914"
     },
     "user_tz": -60
    },
    "id": "oeuAy8LI69vi"
   },
   "outputs": [],
   "source": [
    "from sklearn.model_selection import train_test_split\n",
    "X_train, X_test, y_train, y_test = train_test_split(X, y, test_size = 0.2, random_state = 0)"
   ]
  },
  {
   "cell_type": "markdown",
   "metadata": {
    "id": "sfzLXHPwbOEt"
   },
   "source": [
    "# Escalado de variables"
   ]
  },
  {
   "cell_type": "code",
   "execution_count": 8,
   "metadata": {
    "executionInfo": {
     "elapsed": 69895,
     "status": "ok",
     "timestamp": 1614450023204,
     "user": {
      "displayName": "Jorge Marcos Puñal",
      "photoUrl": "https://lh3.googleusercontent.com/a-/AOh14GjYxeHXnOttQuOkens1SXqkfSRlFY7QYHw0SsltDA=s64",
      "userId": "07829715285529688914"
     },
     "user_tz": -60
    },
    "id": "8m2LCgz8bOEt"
   },
   "outputs": [],
   "source": [
    "from sklearn.preprocessing import StandardScaler\n",
    "sc_X = StandardScaler()\n",
    "X_train = sc_X.fit_transform(X_train)\n",
    "X_test = sc_X.transform(X_test)"
   ]
  },
  {
   "cell_type": "markdown",
   "metadata": {
    "id": "cgweTaJ67BOB"
   },
   "source": [
    "# Parte 2 - Construir la RNA"
   ]
  },
  {
   "cell_type": "markdown",
   "metadata": {
    "id": "tm4Hg995bOEw"
   },
   "source": [
    "# Importar Keras y librerías adicionales\n"
   ]
  },
  {
   "cell_type": "code",
   "execution_count": 9,
   "metadata": {
    "executionInfo": {
     "elapsed": 71127,
     "status": "ok",
     "timestamp": 1614450024443,
     "user": {
      "displayName": "Jorge Marcos Puñal",
      "photoUrl": "https://lh3.googleusercontent.com/a-/AOh14GjYxeHXnOttQuOkens1SXqkfSRlFY7QYHw0SsltDA=s64",
      "userId": "07829715285529688914"
     },
     "user_tz": -60
    },
    "id": "HLEt5ni_bOEw"
   },
   "outputs": [],
   "source": [
    "import keras\n",
    "from keras.models import Sequential\n",
    "from keras.layers import Dense"
   ]
  },
  {
   "cell_type": "markdown",
   "metadata": {
    "id": "ezfPlyegbOEy"
   },
   "source": [
    "# Inicializar la RNA"
   ]
  },
  {
   "cell_type": "code",
   "execution_count": 10,
   "metadata": {
    "executionInfo": {
     "elapsed": 76642,
     "status": "ok",
     "timestamp": 1614450029963,
     "user": {
      "displayName": "Jorge Marcos Puñal",
      "photoUrl": "https://lh3.googleusercontent.com/a-/AOh14GjYxeHXnOttQuOkens1SXqkfSRlFY7QYHw0SsltDA=s64",
      "userId": "07829715285529688914"
     },
     "user_tz": -60
    },
    "id": "zRmQjNVzbOEz"
   },
   "outputs": [],
   "source": [
    "classifier = Sequential()"
   ]
  },
  {
   "cell_type": "markdown",
   "metadata": {
    "id": "ML7H-iqsbOE1"
   },
   "source": [
    "# Añadir las capas de entrada y primera capa oculta\n"
   ]
  },
  {
   "cell_type": "code",
   "execution_count": 11,
   "metadata": {
    "executionInfo": {
     "elapsed": 76613,
     "status": "ok",
     "timestamp": 1614450029968,
     "user": {
      "displayName": "Jorge Marcos Puñal",
      "photoUrl": "https://lh3.googleusercontent.com/a-/AOh14GjYxeHXnOttQuOkens1SXqkfSRlFY7QYHw0SsltDA=s64",
      "userId": "07829715285529688914"
     },
     "user_tz": -60
    },
    "id": "amkkZxnebOE1"
   },
   "outputs": [],
   "source": [
    "classifier.add(Dense(units = 6, kernel_initializer = \"uniform\",  \n",
    "                     activation = \"relu\", input_dim = 11))"
   ]
  },
  {
   "cell_type": "markdown",
   "metadata": {
    "id": "xKoC5UOwbOE3"
   },
   "source": [
    "# Añadir la segunda capa oculta"
   ]
  },
  {
   "cell_type": "code",
   "execution_count": 12,
   "metadata": {
    "executionInfo": {
     "elapsed": 76597,
     "status": "ok",
     "timestamp": 1614450029969,
     "user": {
      "displayName": "Jorge Marcos Puñal",
      "photoUrl": "https://lh3.googleusercontent.com/a-/AOh14GjYxeHXnOttQuOkens1SXqkfSRlFY7QYHw0SsltDA=s64",
      "userId": "07829715285529688914"
     },
     "user_tz": -60
    },
    "id": "ZTDhh_JibOE3"
   },
   "outputs": [],
   "source": [
    "classifier.add(Dense(units = 6, kernel_initializer = \"uniform\",  activation = \"relu\"))"
   ]
  },
  {
   "cell_type": "markdown",
   "metadata": {
    "id": "wvUfptEtbOE5"
   },
   "source": [
    "# Añadir la capa de salida"
   ]
  },
  {
   "cell_type": "code",
   "execution_count": 13,
   "metadata": {
    "executionInfo": {
     "elapsed": 76589,
     "status": "ok",
     "timestamp": 1614450029970,
     "user": {
      "displayName": "Jorge Marcos Puñal",
      "photoUrl": "https://lh3.googleusercontent.com/a-/AOh14GjYxeHXnOttQuOkens1SXqkfSRlFY7QYHw0SsltDA=s64",
      "userId": "07829715285529688914"
     },
     "user_tz": -60
    },
    "id": "6C2x9RUGbOE5"
   },
   "outputs": [],
   "source": [
    "classifier.add(Dense(units = 1, kernel_initializer = \"uniform\",  activation = \"sigmoid\"))"
   ]
  },
  {
   "cell_type": "markdown",
   "metadata": {
    "id": "_Je4JFqsbOE7"
   },
   "source": [
    "# Compilar la RNA"
   ]
  },
  {
   "cell_type": "code",
   "execution_count": 14,
   "metadata": {
    "executionInfo": {
     "elapsed": 76582,
     "status": "ok",
     "timestamp": 1614450029971,
     "user": {
      "displayName": "Jorge Marcos Puñal",
      "photoUrl": "https://lh3.googleusercontent.com/a-/AOh14GjYxeHXnOttQuOkens1SXqkfSRlFY7QYHw0SsltDA=s64",
      "userId": "07829715285529688914"
     },
     "user_tz": -60
    },
    "id": "f89xXBswbOE7"
   },
   "outputs": [],
   "source": [
    "classifier.compile(optimizer = \"adam\", loss = \"binary_crossentropy\", metrics = [\"accuracy\"])"
   ]
  },
  {
   "cell_type": "markdown",
   "metadata": {
    "id": "Dr34zpQrbOE9"
   },
   "source": [
    "# Ajustamos la RNA al Conjunto de Entrenamiento"
   ]
  },
  {
   "cell_type": "code",
   "execution_count": 15,
   "metadata": {
    "colab": {
     "base_uri": "https://localhost:8080/"
    },
    "executionInfo": {
     "elapsed": 201912,
     "status": "ok",
     "timestamp": 1614450155361,
     "user": {
      "displayName": "Jorge Marcos Puñal",
      "photoUrl": "https://lh3.googleusercontent.com/a-/AOh14GjYxeHXnOttQuOkens1SXqkfSRlFY7QYHw0SsltDA=s64",
      "userId": "07829715285529688914"
     },
     "user_tz": -60
    },
    "id": "bwNUtZp7bOE9",
    "outputId": "4c6f9b4a-e767-4267-f62a-dbab057cc6b5"
   },
   "outputs": [
    {
     "name": "stdout",
     "output_type": "stream",
     "text": [
      "Epoch 1/100\n",
      "800/800 [==============================] - 5s 3ms/step - loss: 0.5557 - accuracy: 0.7960\n",
      "Epoch 2/100\n",
      "800/800 [==============================] - 2s 2ms/step - loss: 0.4291 - accuracy: 0.7980\n",
      "Epoch 3/100\n",
      "800/800 [==============================] - 2s 2ms/step - loss: 0.4306 - accuracy: 0.7944\n",
      "Epoch 4/100\n",
      "800/800 [==============================] - 1s 2ms/step - loss: 0.4153 - accuracy: 0.8242\n",
      "Epoch 5/100\n",
      "800/800 [==============================] - 1s 2ms/step - loss: 0.4265 - accuracy: 0.8259\n",
      "Epoch 6/100\n",
      "800/800 [==============================] - 1s 2ms/step - loss: 0.4154 - accuracy: 0.8337\n",
      "Epoch 7/100\n",
      "800/800 [==============================] - 1s 2ms/step - loss: 0.4062 - accuracy: 0.8336\n",
      "Epoch 8/100\n",
      "800/800 [==============================] - 2s 2ms/step - loss: 0.4150 - accuracy: 0.8350\n",
      "Epoch 9/100\n",
      "800/800 [==============================] - 1s 2ms/step - loss: 0.3980 - accuracy: 0.8374\n",
      "Epoch 10/100\n",
      "800/800 [==============================] - 1s 2ms/step - loss: 0.4163 - accuracy: 0.8271\n",
      "Epoch 11/100\n",
      "800/800 [==============================] - 1s 1ms/step - loss: 0.4122 - accuracy: 0.8328\n",
      "Epoch 12/100\n",
      "800/800 [==============================] - 1s 1ms/step - loss: 0.4000 - accuracy: 0.8358\n",
      "Epoch 13/100\n",
      "800/800 [==============================] - 2s 2ms/step - loss: 0.4203 - accuracy: 0.8301\n",
      "Epoch 14/100\n",
      "800/800 [==============================] - 2s 2ms/step - loss: 0.4098 - accuracy: 0.8343\n",
      "Epoch 15/100\n",
      "800/800 [==============================] - 2s 2ms/step - loss: 0.4038 - accuracy: 0.8332: 1s - los\n",
      "Epoch 16/100\n",
      "800/800 [==============================] - 1s 1ms/step - loss: 0.3989 - accuracy: 0.8408\n",
      "Epoch 17/100\n",
      "800/800 [==============================] - 1s 2ms/step - loss: 0.4124 - accuracy: 0.8315\n",
      "Epoch 18/100\n",
      "800/800 [==============================] - 1s 1ms/step - loss: 0.4024 - accuracy: 0.8342\n",
      "Epoch 19/100\n",
      "800/800 [==============================] - 1s 2ms/step - loss: 0.4048 - accuracy: 0.8338\n",
      "Epoch 20/100\n",
      "800/800 [==============================] - 1s 2ms/step - loss: 0.3999 - accuracy: 0.8363\n",
      "Epoch 21/100\n",
      "800/800 [==============================] - 1s 2ms/step - loss: 0.4079 - accuracy: 0.8318\n",
      "Epoch 22/100\n",
      "800/800 [==============================] - 2s 3ms/step - loss: 0.4023 - accuracy: 0.8411\n",
      "Epoch 23/100\n",
      "800/800 [==============================] - ETA: 0s - loss: 0.3970 - accuracy: 0.84 - 2s 3ms/step - loss: 0.3972 - accuracy: 0.8403\n",
      "Epoch 24/100\n",
      "800/800 [==============================] - 2s 2ms/step - loss: 0.4067 - accuracy: 0.8286\n",
      "Epoch 25/100\n",
      "800/800 [==============================] - 1s 2ms/step - loss: 0.3989 - accuracy: 0.8402\n",
      "Epoch 26/100\n",
      "800/800 [==============================] - 1s 2ms/step - loss: 0.3955 - accuracy: 0.8412\n",
      "Epoch 27/100\n",
      "800/800 [==============================] - 2s 2ms/step - loss: 0.4082 - accuracy: 0.8326: 0s - loss: 0.4087 - accu\n",
      "Epoch 28/100\n",
      "800/800 [==============================] - 2s 2ms/step - loss: 0.3998 - accuracy: 0.8376\n",
      "Epoch 29/100\n",
      "800/800 [==============================] - 2s 2ms/step - loss: 0.3952 - accuracy: 0.8373\n",
      "Epoch 30/100\n",
      "800/800 [==============================] - 1s 1ms/step - loss: 0.4001 - accuracy: 0.8356\n",
      "Epoch 31/100\n",
      "800/800 [==============================] - 1s 2ms/step - loss: 0.4008 - accuracy: 0.8346\n",
      "Epoch 32/100\n",
      "800/800 [==============================] - 1s 2ms/step - loss: 0.3983 - accuracy: 0.8345\n",
      "Epoch 33/100\n",
      "800/800 [==============================] - 1s 1ms/step - loss: 0.4001 - accuracy: 0.8356\n",
      "Epoch 34/100\n",
      "800/800 [==============================] - 1s 1ms/step - loss: 0.3994 - accuracy: 0.8352\n",
      "Epoch 35/100\n",
      "800/800 [==============================] - 1s 1ms/step - loss: 0.3967 - accuracy: 0.8290\n",
      "Epoch 36/100\n",
      "800/800 [==============================] - 1s 1ms/step - loss: 0.4001 - accuracy: 0.8373\n",
      "Epoch 37/100\n",
      "800/800 [==============================] - 1s 2ms/step - loss: 0.4000 - accuracy: 0.8359\n",
      "Epoch 38/100\n",
      "800/800 [==============================] - 1s 1ms/step - loss: 0.3966 - accuracy: 0.8372\n",
      "Epoch 39/100\n",
      "800/800 [==============================] - 1s 1ms/step - loss: 0.3929 - accuracy: 0.8367\n",
      "Epoch 40/100\n",
      "800/800 [==============================] - 1s 1ms/step - loss: 0.4082 - accuracy: 0.8286\n",
      "Epoch 41/100\n",
      "800/800 [==============================] - 1s 2ms/step - loss: 0.3920 - accuracy: 0.8417\n",
      "Epoch 42/100\n",
      "800/800 [==============================] - 1s 2ms/step - loss: 0.4037 - accuracy: 0.8370\n",
      "Epoch 43/100\n",
      "800/800 [==============================] - 1s 2ms/step - loss: 0.4022 - accuracy: 0.8342\n",
      "Epoch 44/100\n",
      "800/800 [==============================] - 1s 2ms/step - loss: 0.4069 - accuracy: 0.8293\n",
      "Epoch 45/100\n",
      "800/800 [==============================] - 1s 2ms/step - loss: 0.4038 - accuracy: 0.8334\n",
      "Epoch 46/100\n",
      "800/800 [==============================] - 1s 2ms/step - loss: 0.4049 - accuracy: 0.8375\n",
      "Epoch 47/100\n",
      "800/800 [==============================] - 2s 2ms/step - loss: 0.4115 - accuracy: 0.8262\n",
      "Epoch 48/100\n",
      "800/800 [==============================] - 1s 2ms/step - loss: 0.3958 - accuracy: 0.8389\n",
      "Epoch 49/100\n",
      "800/800 [==============================] - 2s 2ms/step - loss: 0.4049 - accuracy: 0.8321\n",
      "Epoch 50/100\n",
      "800/800 [==============================] - 1s 2ms/step - loss: 0.4004 - accuracy: 0.8348\n",
      "Epoch 51/100\n",
      "800/800 [==============================] - 1s 2ms/step - loss: 0.4010 - accuracy: 0.8335\n",
      "Epoch 52/100\n",
      "800/800 [==============================] - 2s 2ms/step - loss: 0.4069 - accuracy: 0.8343\n",
      "Epoch 53/100\n",
      "800/800 [==============================] - 1s 2ms/step - loss: 0.4026 - accuracy: 0.8352\n",
      "Epoch 54/100\n",
      "800/800 [==============================] - 1s 2ms/step - loss: 0.4055 - accuracy: 0.8383\n",
      "Epoch 55/100\n",
      "800/800 [==============================] - 2s 2ms/step - loss: 0.4088 - accuracy: 0.8271\n",
      "Epoch 56/100\n",
      "800/800 [==============================] - 2s 2ms/step - loss: 0.4026 - accuracy: 0.8345\n",
      "Epoch 57/100\n",
      "800/800 [==============================] - 2s 2ms/step - loss: 0.3943 - accuracy: 0.8401\n",
      "Epoch 58/100\n",
      "800/800 [==============================] - 1s 2ms/step - loss: 0.4000 - accuracy: 0.8335\n",
      "Epoch 59/100\n",
      "800/800 [==============================] - 1s 1ms/step - loss: 0.3928 - accuracy: 0.8330\n",
      "Epoch 60/100\n",
      "800/800 [==============================] - 1s 2ms/step - loss: 0.3956 - accuracy: 0.8383\n",
      "Epoch 61/100\n",
      "800/800 [==============================] - 1s 2ms/step - loss: 0.4038 - accuracy: 0.8321\n",
      "Epoch 62/100\n",
      "800/800 [==============================] - 2s 2ms/step - loss: 0.4007 - accuracy: 0.8363\n",
      "Epoch 63/100\n",
      "800/800 [==============================] - 1s 1ms/step - loss: 0.3992 - accuracy: 0.8319\n",
      "Epoch 64/100\n",
      "800/800 [==============================] - 1s 2ms/step - loss: 0.4076 - accuracy: 0.8308\n",
      "Epoch 65/100\n",
      "800/800 [==============================] - 1s 1ms/step - loss: 0.3970 - accuracy: 0.8395\n",
      "Epoch 66/100\n",
      "800/800 [==============================] - 1s 2ms/step - loss: 0.4064 - accuracy: 0.8345\n",
      "Epoch 67/100\n",
      "800/800 [==============================] - 1s 2ms/step - loss: 0.3960 - accuracy: 0.8406\n",
      "Epoch 68/100\n",
      "800/800 [==============================] - 1s 2ms/step - loss: 0.4043 - accuracy: 0.8321\n",
      "Epoch 69/100\n",
      "800/800 [==============================] - 1s 1ms/step - loss: 0.4018 - accuracy: 0.8357\n",
      "Epoch 70/100\n",
      "800/800 [==============================] - 1s 2ms/step - loss: 0.4163 - accuracy: 0.8304\n",
      "Epoch 71/100\n",
      "800/800 [==============================] - 1s 1ms/step - loss: 0.3934 - accuracy: 0.8408\n",
      "Epoch 72/100\n",
      "800/800 [==============================] - 1s 1ms/step - loss: 0.4024 - accuracy: 0.8342\n",
      "Epoch 73/100\n",
      "800/800 [==============================] - 1s 1ms/step - loss: 0.4115 - accuracy: 0.8322\n",
      "Epoch 74/100\n",
      "800/800 [==============================] - 1s 1ms/step - loss: 0.3924 - accuracy: 0.8407\n",
      "Epoch 75/100\n",
      "800/800 [==============================] - 1s 1ms/step - loss: 0.3945 - accuracy: 0.8372\n",
      "Epoch 76/100\n",
      "800/800 [==============================] - 1s 1ms/step - loss: 0.3896 - accuracy: 0.8413\n",
      "Epoch 77/100\n",
      "800/800 [==============================] - 1s 1ms/step - loss: 0.4085 - accuracy: 0.8335\n",
      "Epoch 78/100\n",
      "800/800 [==============================] - 1s 1ms/step - loss: 0.4050 - accuracy: 0.8320\n",
      "Epoch 79/100\n",
      "800/800 [==============================] - 1s 1ms/step - loss: 0.3980 - accuracy: 0.8385\n",
      "Epoch 80/100\n",
      "800/800 [==============================] - 1s 1ms/step - loss: 0.4104 - accuracy: 0.8289\n",
      "Epoch 81/100\n",
      "800/800 [==============================] - 1s 1ms/step - loss: 0.4160 - accuracy: 0.8283\n",
      "Epoch 82/100\n",
      "800/800 [==============================] - 1s 1ms/step - loss: 0.3895 - accuracy: 0.8379\n",
      "Epoch 83/100\n",
      "800/800 [==============================] - 1s 2ms/step - loss: 0.4033 - accuracy: 0.8304\n",
      "Epoch 84/100\n",
      "800/800 [==============================] - 1s 1ms/step - loss: 0.3925 - accuracy: 0.8347\n",
      "Epoch 85/100\n",
      "800/800 [==============================] - 1s 1ms/step - loss: 0.3983 - accuracy: 0.8287\n",
      "Epoch 86/100\n",
      "800/800 [==============================] - 1s 1ms/step - loss: 0.3994 - accuracy: 0.8334\n",
      "Epoch 87/100\n",
      "800/800 [==============================] - 1s 1ms/step - loss: 0.4005 - accuracy: 0.8342\n",
      "Epoch 88/100\n",
      "800/800 [==============================] - 1s 1ms/step - loss: 0.4055 - accuracy: 0.8323\n",
      "Epoch 89/100\n",
      "800/800 [==============================] - 1s 2ms/step - loss: 0.3975 - accuracy: 0.8324\n",
      "Epoch 90/100\n",
      "800/800 [==============================] - 1s 1ms/step - loss: 0.3964 - accuracy: 0.8332\n",
      "Epoch 91/100\n",
      "800/800 [==============================] - 3s 3ms/step - loss: 0.3872 - accuracy: 0.8389\n",
      "Epoch 92/100\n",
      "800/800 [==============================] - 2s 2ms/step - loss: 0.4088 - accuracy: 0.8268\n",
      "Epoch 93/100\n",
      "800/800 [==============================] - 1s 2ms/step - loss: 0.3861 - accuracy: 0.8413\n",
      "Epoch 94/100\n",
      "800/800 [==============================] - 1s 2ms/step - loss: 0.3980 - accuracy: 0.8393\n",
      "Epoch 95/100\n",
      "800/800 [==============================] - 1s 2ms/step - loss: 0.3985 - accuracy: 0.8346\n",
      "Epoch 96/100\n",
      "800/800 [==============================] - 1s 2ms/step - loss: 0.3973 - accuracy: 0.8352\n",
      "Epoch 97/100\n",
      "800/800 [==============================] - 1s 2ms/step - loss: 0.3937 - accuracy: 0.8359\n",
      "Epoch 98/100\n",
      "800/800 [==============================] - 1s 1ms/step - loss: 0.3977 - accuracy: 0.8337\n",
      "Epoch 99/100\n",
      "800/800 [==============================] - 1s 1ms/step - loss: 0.3913 - accuracy: 0.8397\n",
      "Epoch 100/100\n",
      "800/800 [==============================] - 1s 2ms/step - loss: 0.3950 - accuracy: 0.8347\n"
     ]
    },
    {
     "data": {
      "text/plain": [
       "<tensorflow.python.keras.callbacks.History at 0x7fe8d79ab490>"
      ]
     },
     "execution_count": 15,
     "metadata": {},
     "output_type": "execute_result"
    }
   ],
   "source": [
    "classifier.fit(X_train, y_train,  batch_size = 10, epochs = 100)"
   ]
  },
  {
   "cell_type": "markdown",
   "metadata": {
    "id": "jsUJ7kBnbOE_"
   },
   "source": [
    "# Parte 3 - Evaluar el modelo y calcular predicciones finales"
   ]
  },
  {
   "cell_type": "markdown",
   "metadata": {
    "id": "7ZWV9kiBbOFA"
   },
   "source": [
    "# Predicción de los resultados con el Conjunto de Testing"
   ]
  },
  {
   "cell_type": "code",
   "execution_count": 16,
   "metadata": {
    "executionInfo": {
     "elapsed": 202146,
     "status": "ok",
     "timestamp": 1614450155598,
     "user": {
      "displayName": "Jorge Marcos Puñal",
      "photoUrl": "https://lh3.googleusercontent.com/a-/AOh14GjYxeHXnOttQuOkens1SXqkfSRlFY7QYHw0SsltDA=s64",
      "userId": "07829715285529688914"
     },
     "user_tz": -60
    },
    "id": "XVzX_pIhbOFA",
    "scrolled": true
   },
   "outputs": [],
   "source": [
    "y_pred  = classifier.predict(X_test)\n",
    "y_pred = (y_pred>0.5)"
   ]
  },
  {
   "cell_type": "markdown",
   "metadata": {},
   "source": [
    "Utiliza nuestro modelo de RNA para predecir si el cliente con la siguiente información abandonará el banco: <br>\n",
    "* Geografia: Francia<br>\n",
    "* Puntaje de crédito: 600<br>\n",
    "* Género masculino<br>\n",
    "* Edad: 40 años de edad<br>\n",
    "* Tenencia: 3 años.<br>\n",
    "* Saldo: 60000 dólares <br>\n",
    "* Número de productos: 2 <br>\n",
    "* ¿Este cliente tiene una tarjeta de crédito? Sí<br>\n",
    "* ¿Es este cliente un miembro activo? Sí<br>\n",
    "* Salario estimado: 50000 dólares<br>\n",
    "<br>\n",
    "Entonces, ¿deberíamos decir adiós a ese cliente?<br>"
   ]
  },
  {
   "cell_type": "markdown",
   "metadata": {},
   "source": [
    "Notas:<br>\n",
    "Francia  es 0, 0<br>\n",
    "España   es 0, 1<br>\n",
    "Alemania es 1, 0<br>\n",
    "Hombre es 1<br>\n",
    "Mujer es 0"
   ]
  },
  {
   "cell_type": "code",
   "execution_count": 17,
   "metadata": {},
   "outputs": [
    {
     "name": "stdout",
     "output_type": "stream",
     "text": [
      "[[0.08452561]]\n",
      "[[False]]\n"
     ]
    }
   ],
   "source": [
    "new_prediction = classifier.predict(sc_X.transform(np.array([[0, 0, 600, 1, 40, 3, 60000, 2, 1, 1, 50000]])))\n",
    "print(new_prediction)\n",
    "print(new_prediction > 0.5)"
   ]
  },
  {
   "cell_type": "markdown",
   "metadata": {},
   "source": [
    "No, no debemos decir adiós a este cliente dado que su score es inferior a 0.5"
   ]
  },
  {
   "cell_type": "markdown",
   "metadata": {
    "id": "W0R6AD0bbOFD"
   },
   "source": [
    "# Elaborar una matriz de confusión"
   ]
  },
  {
   "cell_type": "code",
   "execution_count": 18,
   "metadata": {
    "executionInfo": {
     "elapsed": 202144,
     "status": "ok",
     "timestamp": 1614450155600,
     "user": {
      "displayName": "Jorge Marcos Puñal",
      "photoUrl": "https://lh3.googleusercontent.com/a-/AOh14GjYxeHXnOttQuOkens1SXqkfSRlFY7QYHw0SsltDA=s64",
      "userId": "07829715285529688914"
     },
     "user_tz": -60
    },
    "id": "cv-193GvbOFD"
   },
   "outputs": [
    {
     "data": {
      "text/plain": [
       "array([[1545,   50],\n",
       "       [ 269,  136]])"
      ]
     },
     "execution_count": 18,
     "metadata": {},
     "output_type": "execute_result"
    }
   ],
   "source": [
    "from sklearn.metrics import confusion_matrix\n",
    "cm = confusion_matrix(y_test, y_pred)\n",
    "cm"
   ]
  },
  {
   "cell_type": "markdown",
   "metadata": {},
   "source": [
    "# Evaluar el resultado"
   ]
  },
  {
   "cell_type": "code",
   "execution_count": 19,
   "metadata": {},
   "outputs": [
    {
     "name": "stdout",
     "output_type": "stream",
     "text": [
      "0.8405\n"
     ]
    }
   ],
   "source": [
    "print((cm[0][0]+cm[1][1]) / cm.sum())"
   ]
  },
  {
   "cell_type": "markdown",
   "metadata": {
    "id": "3qBAu2KobrIh"
   },
   "source": [
    "## Parte 4 - Evaluar, mejorar y Ajustar la RNA\n"
   ]
  },
  {
   "cell_type": "markdown",
   "metadata": {
    "id": "E3by0rPFbuM3"
   },
   "source": [
    "### Evaluar la **RNA**\n"
   ]
  },
  {
   "cell_type": "code",
   "execution_count": 10,
   "metadata": {
    "executionInfo": {
     "elapsed": 202139,
     "status": "ok",
     "timestamp": 1614450155601,
     "user": {
      "displayName": "Jorge Marcos Puñal",
      "photoUrl": "https://lh3.googleusercontent.com/a-/AOh14GjYxeHXnOttQuOkens1SXqkfSRlFY7QYHw0SsltDA=s64",
      "userId": "07829715285529688914"
     },
     "user_tz": -60
    },
    "id": "Xn44nPWXbsbS"
   },
   "outputs": [],
   "source": [
    "from keras.wrappers.scikit_learn import KerasClassifier\n",
    "from sklearn.model_selection import cross_val_score"
   ]
  },
  {
   "cell_type": "code",
   "execution_count": 11,
   "metadata": {
    "executionInfo": {
     "elapsed": 202135,
     "status": "ok",
     "timestamp": 1614450155602,
     "user": {
      "displayName": "Jorge Marcos Puñal",
      "photoUrl": "https://lh3.googleusercontent.com/a-/AOh14GjYxeHXnOttQuOkens1SXqkfSRlFY7QYHw0SsltDA=s64",
      "userId": "07829715285529688914"
     },
     "user_tz": -60
    },
    "id": "VEv9LR5MbwJ_"
   },
   "outputs": [],
   "source": [
    "def build_classifier():\n",
    "  classifier = Sequential()\n",
    "  classifier.add(Dense(units = 6, kernel_initializer = \"uniform\", activation = \"relu\", input_dim = 11))\n",
    "  classifier.add(Dense(units = 6, kernel_initializer = \"uniform\", activation = \"relu\"))\n",
    "  classifier.add(Dense(units = 1, kernel_initializer = \"uniform\", activation = \"sigmoid\"))\n",
    "  classifier.compile(optimizer = \"adam\", loss = \"binary_crossentropy\", metrics = [\"accuracy\"])\n",
    "  return classifier"
   ]
  },
  {
   "cell_type": "code",
   "execution_count": 12,
   "metadata": {
    "colab": {
     "base_uri": "https://localhost:8080/"
    },
    "executionInfo": {
     "elapsed": 219223,
     "status": "ok",
     "timestamp": 1614450172717,
     "user": {
      "displayName": "Jorge Marcos Puñal",
      "photoUrl": "https://lh3.googleusercontent.com/a-/AOh14GjYxeHXnOttQuOkens1SXqkfSRlFY7QYHw0SsltDA=s64",
      "userId": "07829715285529688914"
     },
     "user_tz": -60
    },
    "id": "84ER1wwKbx-s",
    "outputId": "cd166e03-8a02-4a4c-c8c2-75898347ffb9"
   },
   "outputs": [
    {
     "name": "stderr",
     "output_type": "stream",
     "text": [
      "[Parallel(n_jobs=-1)]: Using backend LokyBackend with 4 concurrent workers.\n",
      "[Parallel(n_jobs=-1)]: Done  10 out of  10 | elapsed:   33.2s finished\n"
     ]
    }
   ],
   "source": [
    "classifier = KerasClassifier(build_fn = build_classifier, batch_size = 10, nb_epoch = 100)\n",
    "accuracies = cross_val_score(estimator=classifier, X = X_train, y = y_train, cv = 10, n_jobs=-1, verbose = 1)"
   ]
  },
  {
   "cell_type": "code",
   "execution_count": 13,
   "metadata": {
    "executionInfo": {
     "elapsed": 219221,
     "status": "ok",
     "timestamp": 1614450172719,
     "user": {
      "displayName": "Jorge Marcos Puñal",
      "photoUrl": "https://lh3.googleusercontent.com/a-/AOh14GjYxeHXnOttQuOkens1SXqkfSRlFY7QYHw0SsltDA=s64",
      "userId": "07829715285529688914"
     },
     "user_tz": -60
    },
    "id": "kH5SWOLjbz1J"
   },
   "outputs": [],
   "source": [
    "mean = accuracies.mean()\n",
    "variance = accuracies.std()\n",
    "print(\"Mean:\", mean)\n",
    "print(\"Variance:\", variance)"
   ]
  },
  {
   "cell_type": "markdown",
   "metadata": {
    "id": "Mv-Hs66Tb3Mv"
   },
   "source": [
    "### Mejorar la RNA"
   ]
  },
  {
   "cell_type": "markdown",
   "metadata": {
    "id": "d-TdOlIlb22x"
   },
   "source": [
    "#### Regularización de Dropout para evitar el *overfitting*\n"
   ]
  },
  {
   "cell_type": "markdown",
   "metadata": {
    "id": "k0xNpbSSb7_D"
   },
   "source": [
    "### Ajustar la *RNA*\n"
   ]
  },
  {
   "cell_type": "code",
   "execution_count": 14,
   "metadata": {
    "executionInfo": {
     "elapsed": 219217,
     "status": "ok",
     "timestamp": 1614450172721,
     "user": {
      "displayName": "Jorge Marcos Puñal",
      "photoUrl": "https://lh3.googleusercontent.com/a-/AOh14GjYxeHXnOttQuOkens1SXqkfSRlFY7QYHw0SsltDA=s64",
      "userId": "07829715285529688914"
     },
     "user_tz": -60
    },
    "id": "4XOkEVJ_eE93"
   },
   "outputs": [],
   "source": [
    "from sklearn.model_selection import GridSearchCV"
   ]
  },
  {
   "cell_type": "code",
   "execution_count": 15,
   "metadata": {
    "executionInfo": {
     "elapsed": 219211,
     "status": "ok",
     "timestamp": 1614450172722,
     "user": {
      "displayName": "Jorge Marcos Puñal",
      "photoUrl": "https://lh3.googleusercontent.com/a-/AOh14GjYxeHXnOttQuOkens1SXqkfSRlFY7QYHw0SsltDA=s64",
      "userId": "07829715285529688914"
     },
     "user_tz": -60
    },
    "id": "lURNzjkSb1Ce"
   },
   "outputs": [],
   "source": [
    "def build_classifier(optimizer):\n",
    "  classifier = Sequential()\n",
    "  classifier.add(Dense(units = 6, kernel_initializer = \"uniform\",  activation = \"relu\", input_dim = 11))\n",
    "  classifier.add(Dense(units = 6, kernel_initializer = \"uniform\",  activation = \"relu\"))\n",
    "  classifier.add(Dense(units = 1, kernel_initializer = \"uniform\",  activation = \"sigmoid\"))\n",
    "  classifier.compile(optimizer = optimizer, loss = \"binary_crossentropy\", metrics = [\"accuracy\"])\n",
    "  return classifier\n"
   ]
  },
  {
   "cell_type": "code",
   "execution_count": 16,
   "metadata": {
    "executionInfo": {
     "elapsed": 219206,
     "status": "ok",
     "timestamp": 1614450172723,
     "user": {
      "displayName": "Jorge Marcos Puñal",
      "photoUrl": "https://lh3.googleusercontent.com/a-/AOh14GjYxeHXnOttQuOkens1SXqkfSRlFY7QYHw0SsltDA=s64",
      "userId": "07829715285529688914"
     },
     "user_tz": -60
    },
    "id": "1mRpi1Kcb96V"
   },
   "outputs": [],
   "source": [
    "classifier = KerasClassifier(build_fn = build_classifier)"
   ]
  },
  {
   "cell_type": "code",
   "execution_count": 20,
   "metadata": {
    "executionInfo": {
     "elapsed": 219201,
     "status": "ok",
     "timestamp": 1614450172724,
     "user": {
      "displayName": "Jorge Marcos Puñal",
      "photoUrl": "https://lh3.googleusercontent.com/a-/AOh14GjYxeHXnOttQuOkens1SXqkfSRlFY7QYHw0SsltDA=s64",
      "userId": "07829715285529688914"
     },
     "user_tz": -60
    },
    "id": "KkRJLSzAb_6R"
   },
   "outputs": [],
   "source": [
    "parameters = {\n",
    "    'batch_size': [15, 20, 25],\n",
    "    'nb_epoch': [400, 500, 600], \n",
    "    'optimizer': ['adam', 'rmsprop']\n",
    "}"
   ]
  },
  {
   "cell_type": "code",
   "execution_count": 21,
   "metadata": {
    "colab": {
     "base_uri": "https://localhost:8080/"
    },
    "executionInfo": {
     "elapsed": 293203,
     "status": "ok",
     "timestamp": 1614450246800,
     "user": {
      "displayName": "Jorge Marcos Puñal",
      "photoUrl": "https://lh3.googleusercontent.com/a-/AOh14GjYxeHXnOttQuOkens1SXqkfSRlFY7QYHw0SsltDA=s64",
      "userId": "07829715285529688914"
     },
     "user_tz": -60
    },
    "id": "_Ejn37PBcB-7",
    "outputId": "d3e822c9-7864-4698-e518-072b4586c6cf"
   },
   "outputs": [
    {
     "name": "stdout",
     "output_type": "stream",
     "text": [
      "480/480 [==============================] - 2s 2ms/step - loss: 0.8263 - accuracy: 0.7889\n",
      "480/480 [==============================] - 2s 2ms/step - loss: 0.7964 - accuracy: 0.7911\n",
      "480/480 [==============================] - 1s 2ms/step - loss: 3.1606 - accuracy: 0.7951\n",
      "480/480 [==============================] - 1s 2ms/step - loss: 0.8511 - accuracy: 0.8067\n",
      "480/480 [==============================] - 2s 3ms/step - loss: 3.0868 - accuracy: 0.7999\n",
      "480/480 [==============================] - 2s 2ms/step - loss: 0.9941 - accuracy: 0.7930: 0s - loss: 1\n",
      "480/480 [==============================] - 2s 2ms/step - loss: 3.0400 - accuracy: 0.8029\n",
      "480/480 [==============================] - 1s 1ms/step - loss: 0.7735 - accuracy: 0.8000\n",
      "480/480 [==============================] - 1s 2ms/step - loss: 0.7485 - accuracy: 0.8001\n",
      "480/480 [==============================] - 3s 3ms/step - loss: 0.8280 - accuracy: 0.7971\n",
      "480/480 [==============================] - 2s 2ms/step - loss: 0.7642 - accuracy: 0.7938\n",
      "480/480 [==============================] - 2s 2ms/step - loss: 3.1663 - accuracy: 0.7947\n",
      "480/480 [==============================] - 1s 2ms/step - loss: 0.7472 - accuracy: 0.7928\n",
      "480/480 [==============================] - 2s 1ms/step - loss: 0.7312 - accuracy: 0.7992\n",
      "480/480 [==============================] - 1s 2ms/step - loss: 0.7418 - accuracy: 0.7923\n",
      "480/480 [==============================] - 2s 3ms/step - loss: 0.7677 - accuracy: 0.7944\n",
      "480/480 [==============================] - 3s 2ms/step - loss: 2.9900 - accuracy: 0.8062\n",
      "480/480 [==============================] - 1s 1ms/step - loss: 0.7743 - accuracy: 0.7919\n",
      "480/480 [==============================] - 3s 3ms/step - loss: 0.7173 - accuracy: 0.7908: 0s - l\n",
      "480/480 [==============================] - 2s 2ms/step - loss: 0.7044 - accuracy: 0.7942\n",
      "480/480 [==============================] - 1s 2ms/step - loss: 3.0841 - accuracy: 0.8001\n",
      "480/480 [==============================] - 2s 2ms/step - loss: 3.1360 - accuracy: 0.7967\n",
      "480/480 [==============================] - 1s 1ms/step - loss: 3.2371 - accuracy: 0.7901\n",
      "480/480 [==============================] - 1s 1ms/step - loss: 0.7237 - accuracy: 0.7998: 0s - loss: 0.7354 - accuracy: 0.\n",
      "480/480 [==============================] - 2s 2ms/step - loss: 0.6248 - accuracy: 0.8102\n",
      "480/480 [==============================] - 2s 3ms/step - loss: 0.8702 - accuracy: 0.7822\n",
      "480/480 [==============================] - 2s 2ms/step - loss: 0.7140 - accuracy: 0.8032\n",
      "480/480 [==============================] - 1s 2ms/step - loss: 0.8152 - accuracy: 0.7925\n",
      "480/480 [==============================] - 2s 2ms/step - loss: 3.2260 - accuracy: 0.7909\n",
      "480/480 [==============================] - 2s 2ms/step - loss: 0.8438 - accuracy: 0.7917\n",
      "480/480 [==============================] - 2s 2ms/step - loss: 0.7561 - accuracy: 0.7959\n",
      "480/480 [==============================] - 2s 2ms/step - loss: 3.0908 - accuracy: 0.7996\n",
      "480/480 [==============================] - 1s 2ms/step - loss: 0.6843 - accuracy: 0.7906\n",
      "480/480 [==============================] - 2s 2ms/step - loss: 0.7638 - accuracy: 0.7980\n",
      "480/480 [==============================] - 2s 2ms/step - loss: 3.1709 - accuracy: 0.7944\n",
      "480/480 [==============================] - 2s 2ms/step - loss: 0.7591 - accuracy: 0.8059\n",
      "480/480 [==============================] - 1s 2ms/step - loss: 3.0173 - accuracy: 0.8044\n",
      "480/480 [==============================] - 2s 2ms/step - loss: 0.7951 - accuracy: 0.7946\n",
      "480/480 [==============================] - 2s 2ms/step - loss: 0.8177 - accuracy: 0.7975\n",
      "480/480 [==============================] - 2s 2ms/step - loss: 0.7084 - accuracy: 0.8000\n",
      "480/480 [==============================] - 1s 2ms/step - loss: 3.1412 - accuracy: 0.7964\n",
      "480/480 [==============================] - 1s 2ms/step - loss: 3.1321 - accuracy: 0.7969\n",
      "480/480 [==============================] - 1s 2ms/step - loss: 0.7314 - accuracy: 0.7953\n",
      "480/480 [==============================] - 1s 1ms/step - loss: 0.6971 - accuracy: 0.8008\n",
      "480/480 [==============================] - 1s 1ms/step - loss: 3.2358 - accuracy: 0.7902\n",
      "480/480 [==============================] - 1s 2ms/step - loss: 0.8363 - accuracy: 0.7956\n",
      "480/480 [==============================] - 2s 2ms/step - loss: 0.6885 - accuracy: 0.7952\n",
      "480/480 [==============================] - 1s 2ms/step - loss: 0.7575 - accuracy: 0.8011\n",
      "480/480 [==============================] - 1s 2ms/step - loss: 3.0771 - accuracy: 0.8005\n",
      "480/480 [==============================] - 1s 2ms/step - loss: 0.7250 - accuracy: 0.8001\n",
      "480/480 [==============================] - 1s 2ms/step - loss: 3.2028 - accuracy: 0.7924\n",
      "480/480 [==============================] - 2s 2ms/step - loss: 3.0710 - accuracy: 0.8009\n",
      "480/480 [==============================] - 2s 2ms/step - loss: 0.7691 - accuracy: 0.7949\n",
      "480/480 [==============================] - 2s 2ms/step - loss: 0.7032 - accuracy: 0.7982\n",
      "480/480 [==============================] - 2s 2ms/step - loss: 3.2884 - accuracy: 0.7868\n",
      "480/480 [==============================] - 2s 2ms/step - loss: 0.7042 - accuracy: 0.7929\n",
      "480/480 [==============================] - 2s 2ms/step - loss: 0.7712 - accuracy: 0.7953: 0s - loss: 0.9\n",
      "480/480 [==============================] - 1s 2ms/step - loss: 0.7133 - accuracy: 0.7967\n",
      "480/480 [==============================] - 1s 1ms/step - loss: 3.1974 - accuracy: 0.7927\n",
      "480/480 [==============================] - 2s 2ms/step - loss: 0.8473 - accuracy: 0.7925: 0s - loss: 0.9073 - accuracy\n",
      "360/360 [==============================] - 1s 1ms/step - loss: 0.8470 - accuracy: 0.7938\n",
      "360/360 [==============================] - 1s 2ms/step - loss: 3.1939 - accuracy: 0.7929\n",
      "360/360 [==============================] - 2s 2ms/step - loss: 3.1459 - accuracy: 0.7961\n",
      "360/360 [==============================] - 2s 2ms/step - loss: 0.8687 - accuracy: 0.7893\n",
      "360/360 [==============================] - 1s 2ms/step - loss: 3.1864 - accuracy: 0.7934\n",
      "360/360 [==============================] - 2s 2ms/step - loss: 0.8009 - accuracy: 0.7896\n",
      "360/360 [==============================] - 1s 2ms/step - loss: 0.8416 - accuracy: 0.7996\n",
      "360/360 [==============================] - 2s 2ms/step - loss: 3.0830 - accuracy: 0.8001\n",
      "360/360 [==============================] - 2s 3ms/step - loss: 3.1071 - accuracy: 0.7986\n",
      "360/360 [==============================] - 2s 3ms/step - loss: 3.1713 - accuracy: 0.7944\n",
      "360/360 [==============================] - 3s 3ms/step - loss: 3.1056 - accuracy: 0.7987\n",
      "360/360 [==============================] - 2s 4ms/step - loss: 0.7348 - accuracy: 0.7917\n",
      "360/360 [==============================] - 2s 2ms/step - loss: 0.7979 - accuracy: 0.7868\n",
      "360/360 [==============================] - 2s 3ms/step - loss: 0.7555 - accuracy: 0.8032\n",
      "360/360 [==============================] - 3s 2ms/step - loss: 3.1808 - accuracy: 0.7938: 0s - loss: 3.1802 - accura\n",
      "360/360 [==============================] - 2s 2ms/step - loss: 0.8874 - accuracy: 0.7912\n",
      "360/360 [==============================] - 1s 2ms/step - loss: 0.8646 - accuracy: 0.7964\n",
      "360/360 [==============================] - 1s 2ms/step - loss: 0.7754 - accuracy: 0.7987: 0s - loss: 0.8968 - accu\n",
      "360/360 [==============================] - 1s 2ms/step - loss: 3.1571 - accuracy: 0.7953\n",
      "360/360 [==============================] - 1s 2ms/step - loss: 0.7278 - accuracy: 0.7949\n",
      "360/360 [==============================] - 1s 2ms/step - loss: 3.2430 - accuracy: 0.7898\n",
      "360/360 [==============================] - 1s 2ms/step - loss: 3.2081 - accuracy: 0.7920\n",
      "360/360 [==============================] - 1s 1ms/step - loss: 0.8430 - accuracy: 0.7906\n",
      "360/360 [==============================] - 1s 2ms/step - loss: 0.9072 - accuracy: 0.7951\n",
      "360/360 [==============================] - 1s 2ms/step - loss: 3.2388 - accuracy: 0.7900\n",
      "360/360 [==============================] - 1s 1ms/step - loss: 0.9063 - accuracy: 0.7947\n",
      "360/360 [==============================] - 1s 1ms/step - loss: 0.8477 - accuracy: 0.7936\n",
      "360/360 [==============================] - 1s 1ms/step - loss: 0.8855 - accuracy: 0.7963\n",
      "360/360 [==============================] - 1s 2ms/step - loss: 3.2977 - accuracy: 0.7862\n",
      "360/360 [==============================] - 1s 1ms/step - loss: 0.7529 - accuracy: 0.7967\n",
      "360/360 [==============================] - 1s 2ms/step - loss: 3.1700 - accuracy: 0.7945\n",
      "360/360 [==============================] - 1s 2ms/step - loss: 0.8481 - accuracy: 0.7961\n",
      "360/360 [==============================] - 1s 2ms/step - loss: 0.6574 - accuracy: 0.8051\n",
      "360/360 [==============================] - 2s 3ms/step - loss: 0.8294 - accuracy: 0.7979\n",
      "360/360 [==============================] - 1s 2ms/step - loss: 0.7910 - accuracy: 0.8010\n",
      "360/360 [==============================] - 1s 1ms/step - loss: 0.7166 - accuracy: 0.7970\n",
      "360/360 [==============================] - 1s 2ms/step - loss: 3.0282 - accuracy: 0.8037\n",
      "360/360 [==============================] - 2s 2ms/step - loss: 0.8297 - accuracy: 0.7939\n",
      "360/360 [==============================] - 2s 2ms/step - loss: 0.8867 - accuracy: 0.7925\n",
      "360/360 [==============================] - 2s 2ms/step - loss: 3.1791 - accuracy: 0.7939\n",
      "360/360 [==============================] - 4s 5ms/step - loss: 3.1358 - accuracy: 0.7967\n",
      "360/360 [==============================] - 1s 2ms/step - loss: 0.7711 - accuracy: 0.8081\n",
      "360/360 [==============================] - 2s 1ms/step - loss: 0.7994 - accuracy: 0.7904\n",
      "360/360 [==============================] - 1s 1ms/step - loss: 0.7719 - accuracy: 0.8029\n",
      "360/360 [==============================] - 1s 2ms/step - loss: 0.8493 - accuracy: 0.7942\n",
      "360/360 [==============================] - 1s 2ms/step - loss: 3.1825 - accuracy: 0.7937\n",
      "360/360 [==============================] - 3s 4ms/step - loss: 0.9234 - accuracy: 0.8014\n",
      "360/360 [==============================] - 1s 2ms/step - loss: 3.1128 - accuracy: 0.7982\n",
      "360/360 [==============================] - 1s 2ms/step - loss: 0.8654 - accuracy: 0.7933\n",
      "360/360 [==============================] - 1s 1ms/step - loss: 0.8948 - accuracy: 0.7921\n",
      "360/360 [==============================] - 1s 1ms/step - loss: 3.1277 - accuracy: 0.7972\n",
      "360/360 [==============================] - 1s 2ms/step - loss: 0.7130 - accuracy: 0.8008\n",
      "360/360 [==============================] - 3s 2ms/step - loss: 0.7840 - accuracy: 0.7926\n",
      "360/360 [==============================] - 1s 1ms/step - loss: 0.8065 - accuracy: 0.7971\n",
      "360/360 [==============================] - 1s 1ms/step - loss: 0.7236 - accuracy: 0.7973\n",
      "360/360 [==============================] - 1s 1ms/step - loss: 3.2012 - accuracy: 0.7925\n",
      "360/360 [==============================] - 1s 1ms/step - loss: 0.6655 - accuracy: 0.8075\n",
      "360/360 [==============================] - 1s 1ms/step - loss: 0.8042 - accuracy: 0.7939\n",
      "360/360 [==============================] - 1s 1ms/step - loss: 0.8664 - accuracy: 0.7894\n",
      "360/360 [==============================] - 1s 1ms/step - loss: 0.8480 - accuracy: 0.7842\n",
      "288/288 [==============================] - 1s 1ms/step - loss: 3.1244 - accuracy: 0.7974\n",
      "288/288 [==============================] - 1s 1ms/step - loss: 3.0837 - accuracy: 0.8001\n",
      "288/288 [==============================] - 3s 2ms/step - loss: 3.1819 - accuracy: 0.7937\n",
      "288/288 [==============================] - 1s 1ms/step - loss: 0.8532 - accuracy: 0.7958\n",
      "288/288 [==============================] - 1s 1ms/step - loss: 0.7833 - accuracy: 0.7955\n",
      "288/288 [==============================] - 1s 1ms/step - loss: 0.8396 - accuracy: 0.7979\n",
      "288/288 [==============================] - 1s 1ms/step - loss: 3.1061 - accuracy: 0.7986\n",
      "288/288 [==============================] - 1s 1ms/step - loss: 0.9223 - accuracy: 0.8006\n",
      "288/288 [==============================] - 1s 1ms/step - loss: 0.7697 - accuracy: 0.8030\n",
      "288/288 [==============================] - 1s 2ms/step - loss: 0.9360 - accuracy: 0.7916\n",
      "288/288 [==============================] - 1s 1ms/step - loss: 0.8257 - accuracy: 0.7962\n",
      "288/288 [==============================] - 1s 1ms/step - loss: 0.7207 - accuracy: 0.8033\n",
      "288/288 [==============================] - 1s 1ms/step - loss: 0.7863 - accuracy: 0.7943\n",
      "288/288 [==============================] - 1s 1ms/step - loss: 2.9954 - accuracy: 0.8058\n",
      "288/288 [==============================] - 1s 2ms/step - loss: 0.8964 - accuracy: 0.7828\n",
      "288/288 [==============================] - 2s 1ms/step - loss: 0.8040 - accuracy: 0.7944\n",
      "288/288 [==============================] - 1s 2ms/step - loss: 3.0616 - accuracy: 0.8015\n",
      "288/288 [==============================] - 1s 2ms/step - loss: 0.7901 - accuracy: 0.7923\n",
      "288/288 [==============================] - 1s 1ms/step - loss: 0.8284 - accuracy: 0.7933\n",
      "288/288 [==============================] - 2s 3ms/step - loss: 0.8873 - accuracy: 0.7948\n",
      "288/288 [==============================] - 1s 2ms/step - loss: 0.8228 - accuracy: 0.7982\n",
      "288/288 [==============================] - 1s 2ms/step - loss: 3.2706 - accuracy: 0.7880\n",
      "288/288 [==============================] - 1s 1ms/step - loss: 3.2426 - accuracy: 0.7898\n",
      "288/288 [==============================] - 1s 1ms/step - loss: 0.8082 - accuracy: 0.7922\n",
      "288/288 [==============================] - 1s 2ms/step - loss: 0.8365 - accuracy: 0.7940\n",
      "288/288 [==============================] - 1s 2ms/step - loss: 3.2901 - accuracy: 0.7867\n",
      "288/288 [==============================] - 1s 2ms/step - loss: 0.9778 - accuracy: 0.7908\n",
      "288/288 [==============================] - 1s 1ms/step - loss: 1.1002 - accuracy: 0.7925\n",
      "288/288 [==============================] - 1s 2ms/step - loss: 0.8759 - accuracy: 0.7938\n",
      "288/288 [==============================] - 1s 2ms/step - loss: 1.0478 - accuracy: 0.7927\n",
      "288/288 [==============================] - 2s 3ms/step - loss: 0.7889 - accuracy: 0.8006\n",
      "288/288 [==============================] - 2s 2ms/step - loss: 0.7716 - accuracy: 0.8061\n",
      "288/288 [==============================] - 1s 2ms/step - loss: 0.9156 - accuracy: 0.7967\n",
      "288/288 [==============================] - 2s 3ms/step - loss: 3.0738 - accuracy: 0.8007\n",
      "288/288 [==============================] - 2s 3ms/step - loss: 0.7622 - accuracy: 0.7891\n",
      "288/288 [==============================] - 3s 3ms/step - loss: 0.8419 - accuracy: 0.7936\n",
      "288/288 [==============================] - 4s 4ms/step - loss: 0.8018 - accuracy: 0.7976\n",
      "288/288 [==============================] - 1s 1ms/step - loss: 0.8271 - accuracy: 0.8019\n",
      "288/288 [==============================] - 2s 2ms/step - loss: 0.9132 - accuracy: 0.7938\n",
      "288/288 [==============================] - 2s 2ms/step - loss: 0.7196 - accuracy: 0.8073\n",
      "288/288 [==============================] - 1s 1ms/step - loss: 0.8525 - accuracy: 0.7966\n",
      "288/288 [==============================] - 1s 1ms/step - loss: 0.9466 - accuracy: 0.7907\n",
      "288/288 [==============================] - 1s 1ms/step - loss: 3.1661 - accuracy: 0.7947\n",
      "288/288 [==============================] - 1s 1ms/step - loss: 0.9105 - accuracy: 0.7932\n",
      "288/288 [==============================] - 1s 1ms/step - loss: 3.0121 - accuracy: 0.8047\n",
      "288/288 [==============================] - 1s 1ms/step - loss: 0.9274 - accuracy: 0.7993\n",
      "288/288 [==============================] - 2s 3ms/step - loss: 0.7772 - accuracy: 0.7978\n",
      "288/288 [==============================] - 2s 5ms/step - loss: 0.9407 - accuracy: 0.7926\n",
      "288/288 [==============================] - 3s 3ms/step - loss: 0.9930 - accuracy: 0.7958\n",
      "288/288 [==============================] - 2s 4ms/step - loss: 3.0982 - accuracy: 0.7991\n",
      "288/288 [==============================] - 2s 3ms/step - loss: 3.1430 - accuracy: 0.7962\n",
      "288/288 [==============================] - 2s 4ms/step - loss: 0.7326 - accuracy: 0.8000\n",
      "288/288 [==============================] - 3s 3ms/step - loss: 3.2291 - accuracy: 0.7907\n",
      "288/288 [==============================] - 2s 2ms/step - loss: 3.2001 - accuracy: 0.7925\n",
      "288/288 [==============================] - 2s 2ms/step - loss: 0.9699 - accuracy: 0.7912\n",
      "288/288 [==============================] - 1s 2ms/step - loss: 0.8482 - accuracy: 0.8001\n",
      "288/288 [==============================] - 1s 2ms/step - loss: 0.7376 - accuracy: 0.7918\n",
      "288/288 [==============================] - 2s 2ms/step - loss: 0.8719 - accuracy: 0.7952\n",
      "288/288 [==============================] - 1s 2ms/step - loss: 0.7609 - accuracy: 0.7993\n",
      "288/288 [==============================] - 1s 2ms/step - loss: 3.0636 - accuracy: 0.8014\n",
      "480/480 [==============================] - 1s 2ms/step - loss: 0.5954 - accuracy: 0.7950\n",
      "480/480 [==============================] - 1s 2ms/step - loss: 0.6029 - accuracy: 0.7732: 0s - loss: 0.6081 - accuracy: 0.\n",
      "480/480 [==============================] - 1s 2ms/step - loss: 0.6022 - accuracy: 0.7671\n",
      "480/480 [==============================] - 1s 2ms/step - loss: 0.5888 - accuracy: 0.8006\n",
      "480/480 [==============================] - 1s 2ms/step - loss: 0.6012 - accuracy: 0.7579\n",
      "480/480 [==============================] - 1s 2ms/step - loss: 0.6145 - accuracy: 0.6904\n",
      "480/480 [==============================] - 1s 2ms/step - loss: 0.6008 - accuracy: 0.7611\n",
      "480/480 [==============================] - 2s 2ms/step - loss: 0.5972 - accuracy: 0.7894\n",
      "480/480 [==============================] - 3s 5ms/step - loss: 0.5998 - accuracy: 0.7716\n",
      "480/480 [==============================] - 3s 4ms/step - loss: 0.6066 - accuracy: 0.7186\n",
      "480/480 [==============================] - 2s 2ms/step - loss: 0.5981 - accuracy: 0.7745\n",
      "480/480 [==============================] - 1s 1ms/step - loss: 0.5983 - accuracy: 0.7662\n",
      "480/480 [==============================] - 1s 1ms/step - loss: 0.5862 - accuracy: 0.7968\n",
      "480/480 [==============================] - 1s 2ms/step - loss: 0.5784 - accuracy: 0.7963\n",
      "480/480 [==============================] - 1s 1ms/step - loss: 0.5961 - accuracy: 0.7860\n",
      "480/480 [==============================] - 1s 1ms/step - loss: 0.5905 - accuracy: 0.7957\n",
      "480/480 [==============================] - 1s 2ms/step - loss: 0.5908 - accuracy: 0.7989\n",
      "480/480 [==============================] - 1s 2ms/step - loss: 0.6065 - accuracy: 0.7265\n",
      "480/480 [==============================] - 1s 2ms/step - loss: 0.5937 - accuracy: 0.7887\n",
      "480/480 [==============================] - 1s 2ms/step - loss: 0.5769 - accuracy: 0.7962\n",
      "480/480 [==============================] - 2s 3ms/step - loss: 0.5943 - accuracy: 0.8009\n",
      "480/480 [==============================] - 2s 2ms/step - loss: 0.5814 - accuracy: 0.7960\n",
      "480/480 [==============================] - 2s 2ms/step - loss: 0.5973 - accuracy: 0.7930\n",
      "480/480 [==============================] - 2s 2ms/step - loss: 0.5903 - accuracy: 0.7935\n",
      "480/480 [==============================] - 3s 3ms/step - loss: 0.5957 - accuracy: 0.7887\n",
      "480/480 [==============================] - 2s 2ms/step - loss: 0.5881 - accuracy: 0.7912\n",
      "480/480 [==============================] - 2s 3ms/step - loss: 0.5970 - accuracy: 0.7850\n",
      "480/480 [==============================] - 2s 2ms/step - loss: 0.5974 - accuracy: 0.7805\n",
      "480/480 [==============================] - 1s 1ms/step - loss: 0.6131 - accuracy: 0.7063\n",
      "480/480 [==============================] - 1s 1ms/step - loss: 0.6066 - accuracy: 0.7261\n",
      "480/480 [==============================] - 1s 1ms/step - loss: 0.5818 - accuracy: 0.7941\n",
      "480/480 [==============================] - 1s 1ms/step - loss: 0.5856 - accuracy: 0.7876\n",
      "480/480 [==============================] - 1s 1ms/step - loss: 0.5995 - accuracy: 0.7571\n",
      "480/480 [==============================] - 1s 1ms/step - loss: 0.5906 - accuracy: 0.7962\n",
      "480/480 [==============================] - 1s 1ms/step - loss: 0.5857 - accuracy: 0.7934\n",
      "480/480 [==============================] - 1s 1ms/step - loss: 0.5829 - accuracy: 0.7973\n",
      "480/480 [==============================] - 2s 1ms/step - loss: 0.5790 - accuracy: 0.8013\n",
      "480/480 [==============================] - 1s 1ms/step - loss: 0.5927 - accuracy: 0.7846\n",
      "480/480 [==============================] - 1s 1ms/step - loss: 0.5951 - accuracy: 0.7781\n",
      "480/480 [==============================] - 1s 1ms/step - loss: 0.5895 - accuracy: 0.7968\n",
      "480/480 [==============================] - 1s 1ms/step - loss: 0.5823 - accuracy: 0.7952\n",
      "480/480 [==============================] - 1s 1ms/step - loss: 0.6090 - accuracy: 0.7225\n",
      "480/480 [==============================] - 1s 1ms/step - loss: 0.6049 - accuracy: 0.7321\n",
      "480/480 [==============================] - 1s 1ms/step - loss: 0.5968 - accuracy: 0.7759\n",
      "480/480 [==============================] - 1s 1ms/step - loss: 0.5971 - accuracy: 0.7931\n",
      "480/480 [==============================] - 1s 2ms/step - loss: 0.5991 - accuracy: 0.7920\n",
      "480/480 [==============================] - 1s 1ms/step - loss: 0.5957 - accuracy: 0.7954\n",
      "480/480 [==============================] - 1s 1ms/step - loss: 0.6047 - accuracy: 0.7602\n",
      "480/480 [==============================] - 1s 1ms/step - loss: 0.6046 - accuracy: 0.7491\n",
      "480/480 [==============================] - 1s 1ms/step - loss: 0.5825 - accuracy: 0.7999\n",
      "480/480 [==============================] - 1s 1ms/step - loss: 0.5977 - accuracy: 0.7711\n",
      "480/480 [==============================] - 1s 1ms/step - loss: 0.5939 - accuracy: 0.7846\n",
      "480/480 [==============================] - 1s 1ms/step - loss: 0.5803 - accuracy: 0.7969\n",
      "480/480 [==============================] - 1s 997us/step - loss: 0.5871 - accuracy: 0.7828\n",
      "480/480 [==============================] - 1s 1ms/step - loss: 0.5902 - accuracy: 0.7863\n",
      "480/480 [==============================] - 1s 1ms/step - loss: 0.5827 - accuracy: 0.7975\n",
      "480/480 [==============================] - 1s 1ms/step - loss: 0.5918 - accuracy: 0.7773\n",
      "480/480 [==============================] - 1s 2ms/step - loss: 0.5881 - accuracy: 0.7911\n",
      "480/480 [==============================] - 1s 1ms/step - loss: 0.6001 - accuracy: 0.7691\n",
      "480/480 [==============================] - 1s 994us/step - loss: 0.5903 - accuracy: 0.7960\n",
      "360/360 [==============================] - 1s 2ms/step - loss: 0.6028 - accuracy: 0.7994\n",
      "360/360 [==============================] - 1s 1ms/step - loss: 0.6274 - accuracy: 0.6921\n",
      "360/360 [==============================] - 1s 1ms/step - loss: 0.6078 - accuracy: 0.7961\n",
      "360/360 [==============================] - 1s 1ms/step - loss: 0.6098 - accuracy: 0.8005\n",
      "360/360 [==============================] - 1s 2ms/step - loss: 0.5974 - accuracy: 0.7979\n",
      "360/360 [==============================] - 1s 1ms/step - loss: 0.6185 - accuracy: 0.7314\n",
      "360/360 [==============================] - 1s 1ms/step - loss: 0.6060 - accuracy: 0.7931\n",
      "360/360 [==============================] - 1s 1ms/step - loss: 0.6180 - accuracy: 0.7284\n",
      "360/360 [==============================] - 1s 1ms/step - loss: 0.6107 - accuracy: 0.7921\n",
      "360/360 [==============================] - 1s 1ms/step - loss: 0.6140 - accuracy: 0.7582\n",
      "360/360 [==============================] - 1s 990us/step - loss: 0.5943 - accuracy: 0.8014\n",
      "360/360 [==============================] - 1s 1ms/step - loss: 0.6022 - accuracy: 0.7995\n",
      "360/360 [==============================] - 1s 1ms/step - loss: 0.6087 - accuracy: 0.7824\n",
      "360/360 [==============================] - 2s 2ms/step - loss: 0.6197 - accuracy: 0.7122\n",
      "360/360 [==============================] - 1s 2ms/step - loss: 0.5993 - accuracy: 0.7981\n",
      "360/360 [==============================] - 2s 1ms/step - loss: 0.6127 - accuracy: 0.7635\n",
      "360/360 [==============================] - 1s 1ms/step - loss: 0.6008 - accuracy: 0.7959\n",
      "360/360 [==============================] - 1s 1ms/step - loss: 0.5927 - accuracy: 0.8010\n",
      "360/360 [==============================] - 1s 996us/step - loss: 0.6070 - accuracy: 0.7849\n",
      "360/360 [==============================] - 1s 993us/step - loss: 0.5906 - accuracy: 0.7993\n",
      "360/360 [==============================] - 1s 1ms/step - loss: 0.6273 - accuracy: 0.6885\n",
      "360/360 [==============================] - 1s 994us/step - loss: 0.6142 - accuracy: 0.7824\n",
      "360/360 [==============================] - 1s 997us/step - loss: 0.6034 - accuracy: 0.8001\n",
      "360/360 [==============================] - 1s 1ms/step - loss: 0.6213 - accuracy: 0.7007\n",
      "360/360 [==============================] - 1s 1ms/step - loss: 0.6019 - accuracy: 0.7968\n",
      "360/360 [==============================] - 1s 1ms/step - loss: 0.5987 - accuracy: 0.7934\n",
      "360/360 [==============================] - 2s 3ms/step - loss: 0.6174 - accuracy: 0.7384\n",
      "360/360 [==============================] - 3s 3ms/step - loss: 0.6292 - accuracy: 0.6767\n",
      "360/360 [==============================] - 4s 5ms/step - loss: 0.5985 - accuracy: 0.7984\n",
      "360/360 [==============================] - 2s 2ms/step - loss: 0.6174 - accuracy: 0.7504\n",
      "360/360 [==============================] - 1s 2ms/step - loss: 0.5953 - accuracy: 0.7943\n",
      "360/360 [==============================] - 2s 3ms/step - loss: 0.5996 - accuracy: 0.7983\n",
      "360/360 [==============================] - 2s 2ms/step - loss: 0.6095 - accuracy: 0.7652\n",
      "360/360 [==============================] - 1s 2ms/step - loss: 0.6080 - accuracy: 0.7688\n",
      "360/360 [==============================] - 2s 2ms/step - loss: 0.6168 - accuracy: 0.7349: 0s - loss: 0.6310 - accuracy: \n",
      "360/360 [==============================] - 1s 2ms/step - loss: 0.5971 - accuracy: 0.8035\n",
      "360/360 [==============================] - 1s 2ms/step - loss: 0.6025 - accuracy: 0.7935\n",
      "360/360 [==============================] - 1s 2ms/step - loss: 0.6122 - accuracy: 0.7524\n",
      "360/360 [==============================] - 2s 2ms/step - loss: 0.5984 - accuracy: 0.7962\n",
      "360/360 [==============================] - 1s 2ms/step - loss: 0.5881 - accuracy: 0.8003\n",
      "360/360 [==============================] - 1s 2ms/step - loss: 0.6023 - accuracy: 0.8038\n",
      "360/360 [==============================] - 1s 2ms/step - loss: 0.6142 - accuracy: 0.7619\n",
      "360/360 [==============================] - 1s 2ms/step - loss: 0.5937 - accuracy: 0.8055\n",
      "360/360 [==============================] - 1s 2ms/step - loss: 0.6158 - accuracy: 0.7476: 0s - loss: 0.6613 - \n",
      "360/360 [==============================] - 2s 2ms/step - loss: 0.6030 - accuracy: 0.7981\n",
      "360/360 [==============================] - 1s 2ms/step - loss: 0.6225 - accuracy: 0.7318\n",
      "360/360 [==============================] - 1s 2ms/step - loss: 0.6016 - accuracy: 0.7957\n",
      "360/360 [==============================] - 1s 2ms/step - loss: 0.6112 - accuracy: 0.7940: 0s - loss: 0.6278 - accuracy\n",
      "360/360 [==============================] - 2s 3ms/step - loss: 0.6162 - accuracy: 0.7454\n",
      "360/360 [==============================] - 1s 2ms/step - loss: 0.6138 - accuracy: 0.7637\n",
      "360/360 [==============================] - 2s 2ms/step - loss: 0.6055 - accuracy: 0.7879\n",
      "360/360 [==============================] - 1s 2ms/step - loss: 0.6153 - accuracy: 0.7528\n",
      "360/360 [==============================] - 1s 2ms/step - loss: 0.6176 - accuracy: 0.7340\n",
      "360/360 [==============================] - 1s 2ms/step - loss: 0.6083 - accuracy: 0.7814\n",
      "360/360 [==============================] - 2s 2ms/step - loss: 0.6022 - accuracy: 0.7885\n",
      "360/360 [==============================] - 1s 2ms/step - loss: 0.6050 - accuracy: 0.7913\n",
      "360/360 [==============================] - 1s 2ms/step - loss: 0.5982 - accuracy: 0.7928\n",
      "360/360 [==============================] - 1s 2ms/step - loss: 0.5991 - accuracy: 0.7958\n",
      "360/360 [==============================] - 1s 2ms/step - loss: 0.6158 - accuracy: 0.7438\n",
      "360/360 [==============================] - 1s 2ms/step - loss: 0.5965 - accuracy: 0.7892\n",
      "288/288 [==============================] - 1s 3ms/step - loss: 0.6288 - accuracy: 0.7424\n",
      "288/288 [==============================] - 1s 2ms/step - loss: 0.6254 - accuracy: 0.7584\n",
      "288/288 [==============================] - 1s 2ms/step - loss: 0.6311 - accuracy: 0.7344: 0s - loss: 0.6441 - accuracy: \n",
      "288/288 [==============================] - 1s 2ms/step - loss: 0.6225 - accuracy: 0.7865\n",
      "288/288 [==============================] - 1s 2ms/step - loss: 0.6278 - accuracy: 0.7418\n",
      "288/288 [==============================] - 1s 2ms/step - loss: 0.6191 - accuracy: 0.7940\n",
      "288/288 [==============================] - 1s 2ms/step - loss: 0.6252 - accuracy: 0.7603\n",
      "288/288 [==============================] - 1s 2ms/step - loss: 0.6423 - accuracy: 0.6562\n",
      "288/288 [==============================] - 1s 2ms/step - loss: 0.6141 - accuracy: 0.8004\n",
      "288/288 [==============================] - 1s 2ms/step - loss: 0.6295 - accuracy: 0.7320\n",
      "288/288 [==============================] - 1s 2ms/step - loss: 0.6041 - accuracy: 0.7909\n",
      "288/288 [==============================] - 2s 2ms/step - loss: 0.6223 - accuracy: 0.7682\n",
      "288/288 [==============================] - 1s 3ms/step - loss: 0.6262 - accuracy: 0.7374: 0s - loss: 0.6630 - \n",
      "288/288 [==============================] - 2s 2ms/step - loss: 0.6041 - accuracy: 0.7940\n",
      "288/288 [==============================] - 1s 2ms/step - loss: 0.6271 - accuracy: 0.7346\n",
      "288/288 [==============================] - 1s 2ms/step - loss: 0.6141 - accuracy: 0.7985\n",
      "288/288 [==============================] - 2s 2ms/step - loss: 0.6113 - accuracy: 0.7998\n",
      "288/288 [==============================] - 1s 2ms/step - loss: 0.6074 - accuracy: 0.7993\n",
      "288/288 [==============================] - 1s 2ms/step - loss: 0.6067 - accuracy: 0.7984\n",
      "288/288 [==============================] - 2s 3ms/step - loss: 0.6282 - accuracy: 0.7275\n",
      "288/288 [==============================] - 1s 2ms/step - loss: 0.6187 - accuracy: 0.7992\n",
      "288/288 [==============================] - 1s 2ms/step - loss: 0.6392 - accuracy: 0.6714\n",
      "288/288 [==============================] - 1s 2ms/step - loss: 0.6377 - accuracy: 0.6909\n",
      "288/288 [==============================] - 2s 2ms/step - loss: 0.6107 - accuracy: 0.8015\n",
      "288/288 [==============================] - 1s 2ms/step - loss: 0.6350 - accuracy: 0.6943\n",
      "288/288 [==============================] - 1s 2ms/step - loss: 0.6184 - accuracy: 0.8008\n",
      "288/288 [==============================] - 1s 2ms/step - loss: 0.6408 - accuracy: 0.6649\n",
      "288/288 [==============================] - 1s 2ms/step - loss: 0.6167 - accuracy: 0.7953\n",
      "288/288 [==============================] - 1s 2ms/step - loss: 0.6273 - accuracy: 0.7437\n",
      "288/288 [==============================] - 1s 2ms/step - loss: 0.6129 - accuracy: 0.7964\n",
      "288/288 [==============================] - 1s 2ms/step - loss: 0.6301 - accuracy: 0.7222\n",
      "288/288 [==============================] - 1s 2ms/step - loss: 0.6194 - accuracy: 0.7734\n",
      "288/288 [==============================] - 1s 2ms/step - loss: 0.6080 - accuracy: 0.7957\n",
      "288/288 [==============================] - 2s 2ms/step - loss: 0.6337 - accuracy: 0.6949\n",
      "288/288 [==============================] - 1s 2ms/step - loss: 0.6099 - accuracy: 0.7942\n",
      "288/288 [==============================] - 1s 2ms/step - loss: 0.6116 - accuracy: 0.7928\n",
      "288/288 [==============================] - 1s 2ms/step - loss: 0.6045 - accuracy: 0.8009\n",
      "288/288 [==============================] - 1s 2ms/step - loss: 0.6198 - accuracy: 0.7768\n",
      "288/288 [==============================] - 1s 2ms/step - loss: 0.6164 - accuracy: 0.7901\n",
      "288/288 [==============================] - 1s 2ms/step - loss: 0.6169 - accuracy: 0.7880\n",
      "288/288 [==============================] - 1s 2ms/step - loss: 0.6206 - accuracy: 0.7964\n",
      "288/288 [==============================] - 1s 2ms/step - loss: 0.6330 - accuracy: 0.7252\n",
      "288/288 [==============================] - 2s 2ms/step - loss: 0.6180 - accuracy: 0.7879\n",
      "288/288 [==============================] - 1s 2ms/step - loss: 0.6178 - accuracy: 0.7987\n",
      "288/288 [==============================] - 1s 2ms/step - loss: 0.6234 - accuracy: 0.7948\n",
      "288/288 [==============================] - 1s 2ms/step - loss: 0.6288 - accuracy: 0.7455\n",
      "288/288 [==============================] - 1s 2ms/step - loss: 0.6225 - accuracy: 0.8015\n",
      "288/288 [==============================] - 1s 2ms/step - loss: 0.6256 - accuracy: 0.7617\n",
      "288/288 [==============================] - 1s 2ms/step - loss: 0.6154 - accuracy: 0.7871\n",
      "288/288 [==============================] - 1s 2ms/step - loss: 0.6361 - accuracy: 0.6873\n",
      "288/288 [==============================] - 1s 2ms/step - loss: 0.5974 - accuracy: 0.7970\n",
      "288/288 [==============================] - 1s 2ms/step - loss: 0.6259 - accuracy: 0.7391\n",
      "288/288 [==============================] - 2s 2ms/step - loss: 0.6194 - accuracy: 0.7869: 0s - loss: 0.6477 - accura\n",
      "288/288 [==============================] - 1s 2ms/step - loss: 0.6117 - accuracy: 0.7988\n",
      "288/288 [==============================] - 1s 2ms/step - loss: 0.6227 - accuracy: 0.7680\n",
      "288/288 [==============================] - 1s 2ms/step - loss: 0.6276 - accuracy: 0.7305\n",
      "288/288 [==============================] - 1s 2ms/step - loss: 0.6335 - accuracy: 0.6936\n",
      "288/288 [==============================] - 1s 2ms/step - loss: 0.6198 - accuracy: 0.7732\n",
      "288/288 [==============================] - 2s 2ms/step - loss: 0.6233 - accuracy: 0.7639\n",
      "288/288 [==============================] - 1s 2ms/step - loss: 0.6120 - accuracy: 0.7968\n",
      "534/534 [==============================] - 2s 2ms/step - loss: 0.7427 - accuracy: 0.7958\n"
     ]
    }
   ],
   "source": [
    "grid_search = GridSearchCV(estimator = classifier, \n",
    "                           param_grid = parameters, \n",
    "                           scoring = 'accuracy', \n",
    "                           cv = 10)\n",
    "grid_search = grid_search.fit(X_train, y_train)\n",
    "\n",
    "best_parameters = grid_search.best_params_\n",
    "best_accuracy = grid_search.best_score_"
   ]
  },
  {
   "cell_type": "code",
   "execution_count": 22,
   "metadata": {},
   "outputs": [
    {
     "data": {
      "text/plain": [
       "({'activation': 'relu',\n",
       "  'batch_size': 15,\n",
       "  'nb_epoch': 500,\n",
       "  'optimizer': 'adam'},\n",
       " 0.805875)"
      ]
     },
     "execution_count": 22,
     "metadata": {},
     "output_type": "execute_result"
    }
   ],
   "source": [
    "best_parameters, best_accuracy"
   ]
  },
  {
   "cell_type": "code",
   "execution_count": null,
   "metadata": {},
   "outputs": [],
   "source": []
  }
 ],
 "metadata": {
  "accelerator": "GPU",
  "colab": {
   "collapsed_sections": [],
   "name": "ann.ipynb",
   "provenance": []
  },
  "kernelspec": {
   "display_name": "Python 3",
   "language": "python",
   "name": "python3"
  },
  "language_info": {
   "codemirror_mode": {
    "name": "ipython",
    "version": 3
   },
   "file_extension": ".py",
   "mimetype": "text/x-python",
   "name": "python",
   "nbconvert_exporter": "python",
   "pygments_lexer": "ipython3",
   "version": "3.8.5"
  }
 },
 "nbformat": 4,
 "nbformat_minor": 4
}
